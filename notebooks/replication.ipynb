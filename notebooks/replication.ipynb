{
 "cells": [
  {
   "cell_type": "markdown",
   "metadata": {},
   "source": [
    "## Asset replication\n",
    "\n",
    "Asset replication can be used to hedging or mean-reversion trading purposes."
   ]
  },
  {
   "cell_type": "code",
   "execution_count": null,
   "metadata": {
    "vscode": {
     "languageId": "plaintext"
    }
   },
   "outputs": [],
   "source": [
    "import pod\n",
    "import pandas\n",
    "import zipfile\n",
    "from io import StringIO\n",
    "from typing import List\n",
    "from datetime import date\n",
    "\n",
    "path_data = 'data'\n",
    "daily_data = []\n",
    "for year in range(2018, 2023):\n",
    "    with zipfile.ZipFile(f\"{path_data}/NYSE_{year}.zip\", \"r\") as zip_file:\n",
    "        for file in zip_file.namelist():\n",
    "            with zip_file.open(file, \"r\") as zip_entry:\n",
    "                current_data = zip_entry.read().decode('utf-8')\n",
    "                current_day = pandas.read_csv(StringIO(current_data), dtype={\n",
    "                    'Symbol': 'string',\n",
    "                    'Date': 'string',\n",
    "                    'Open': 'float64',\n",
    "                    'High': 'float64',\n",
    "                    'Close': 'float64',\n",
    "                    'Volume': 'int64'\n",
    "                }, parse_dates=['Date'], date_format=\"%d-%b-%Y\")\n",
    "                daily_data.append(current_day)\n",
    "\n",
    "market_data = pandas.concat(daily_data)\n",
    "prices = market_data[['Date', 'Symbol', 'Close']].pivot_table(index='Date', columns='Symbol', values='Close').ffill()\n",
    "from datetime import date\n",
    "train_prices = prices.loc[prices.index < pandas.to_datetime(date(2022, 1, 1))]\n",
    "test_prices = prices.loc[prices.index >= pandas.to_datetime(date(2022, 1, 1))]\n",
    "\n",
    "performances = train_prices.pct_change().dropna(how='all', axis=0).dropna(how='any', axis=1)\n"
   ]
  }
 ],
 "metadata": {
  "kernelspec": {
   "display_name": "Python 3.10.4 64-bit",
   "language": "python",
   "name": "python3"
  },
  "language_info": {
   "codemirror_mode": {
    "name": "ipython",
    "version": 3
   },
   "file_extension": ".py",
   "mimetype": "text/x-python",
   "name": "python",
   "nbconvert_exporter": "python",
   "pygments_lexer": "ipython3",
   "version": "3.10.4"
  },
  "vscode": {
   "interpreter": {
    "hash": "3ad933181bd8a04b432d3370b9dc3b0662ad032c4dfaa4e4f1596c548f763858"
   }
  }
 },
 "nbformat": 4,
 "nbformat_minor": 4
}
